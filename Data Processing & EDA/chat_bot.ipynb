{
 "cells": [
  {
   "cell_type": "code",
   "execution_count": 1,
   "id": "d55c5498",
   "metadata": {},
   "outputs": [
    {
     "name": "stdout",
     "output_type": "stream",
     "text": [
      "Requirement already satisfied: chromadb in d:\\ai & ml\\projects\\ecommerce-laptop-recomonadation\\venv\\lib\\site-packages (1.0.8)\n",
      "Requirement already satisfied: langchain in d:\\ai & ml\\projects\\ecommerce-laptop-recomonadation\\venv\\lib\\site-packages (0.3.25)\n",
      "Requirement already satisfied: ollama in d:\\ai & ml\\projects\\ecommerce-laptop-recomonadation\\venv\\lib\\site-packages (0.4.8)\n",
      "Requirement already satisfied: build>=1.0.3 in d:\\ai & ml\\projects\\ecommerce-laptop-recomonadation\\venv\\lib\\site-packages (from chromadb) (1.2.2.post1)\n",
      "Requirement already satisfied: pydantic>=1.9 in d:\\ai & ml\\projects\\ecommerce-laptop-recomonadation\\venv\\lib\\site-packages (from chromadb) (2.11.4)\n",
      "Requirement already satisfied: fastapi==0.115.9 in d:\\ai & ml\\projects\\ecommerce-laptop-recomonadation\\venv\\lib\\site-packages (from chromadb) (0.115.9)\n",
      "Requirement already satisfied: uvicorn>=0.18.3 in d:\\ai & ml\\projects\\ecommerce-laptop-recomonadation\\venv\\lib\\site-packages (from uvicorn[standard]>=0.18.3->chromadb) (0.34.2)\n",
      "Requirement already satisfied: numpy>=1.22.5 in d:\\ai & ml\\projects\\ecommerce-laptop-recomonadation\\venv\\lib\\site-packages (from chromadb) (1.26.4)\n",
      "Requirement already satisfied: posthog>=2.4.0 in d:\\ai & ml\\projects\\ecommerce-laptop-recomonadation\\venv\\lib\\site-packages (from chromadb) (4.0.1)\n",
      "Requirement already satisfied: typing-extensions>=4.5.0 in d:\\ai & ml\\projects\\ecommerce-laptop-recomonadation\\venv\\lib\\site-packages (from chromadb) (4.13.2)\n",
      "Requirement already satisfied: onnxruntime>=1.14.1 in d:\\ai & ml\\projects\\ecommerce-laptop-recomonadation\\venv\\lib\\site-packages (from chromadb) (1.21.1)\n",
      "Requirement already satisfied: opentelemetry-api>=1.2.0 in d:\\ai & ml\\projects\\ecommerce-laptop-recomonadation\\venv\\lib\\site-packages (from chromadb) (1.32.1)\n",
      "Requirement already satisfied: opentelemetry-exporter-otlp-proto-grpc>=1.2.0 in d:\\ai & ml\\projects\\ecommerce-laptop-recomonadation\\venv\\lib\\site-packages (from chromadb) (1.32.1)\n",
      "Requirement already satisfied: opentelemetry-instrumentation-fastapi>=0.41b0 in d:\\ai & ml\\projects\\ecommerce-laptop-recomonadation\\venv\\lib\\site-packages (from chromadb) (0.53b1)\n",
      "Requirement already satisfied: opentelemetry-sdk>=1.2.0 in d:\\ai & ml\\projects\\ecommerce-laptop-recomonadation\\venv\\lib\\site-packages (from chromadb) (1.32.1)\n",
      "Requirement already satisfied: tokenizers>=0.13.2 in d:\\ai & ml\\projects\\ecommerce-laptop-recomonadation\\venv\\lib\\site-packages (from chromadb) (0.21.1)\n",
      "Requirement already satisfied: pypika>=0.48.9 in d:\\ai & ml\\projects\\ecommerce-laptop-recomonadation\\venv\\lib\\site-packages (from chromadb) (0.48.9)\n",
      "Requirement already satisfied: tqdm>=4.65.0 in d:\\ai & ml\\projects\\ecommerce-laptop-recomonadation\\venv\\lib\\site-packages (from chromadb) (4.67.1)\n",
      "Requirement already satisfied: overrides>=7.3.1 in d:\\ai & ml\\projects\\ecommerce-laptop-recomonadation\\venv\\lib\\site-packages (from chromadb) (7.7.0)\n",
      "Requirement already satisfied: importlib-resources in d:\\ai & ml\\projects\\ecommerce-laptop-recomonadation\\venv\\lib\\site-packages (from chromadb) (6.5.2)\n",
      "Requirement already satisfied: grpcio>=1.58.0 in d:\\ai & ml\\projects\\ecommerce-laptop-recomonadation\\venv\\lib\\site-packages (from chromadb) (1.71.0)\n",
      "Requirement already satisfied: bcrypt>=4.0.1 in d:\\ai & ml\\projects\\ecommerce-laptop-recomonadation\\venv\\lib\\site-packages (from chromadb) (4.3.0)\n",
      "Requirement already satisfied: typer>=0.9.0 in d:\\ai & ml\\projects\\ecommerce-laptop-recomonadation\\venv\\lib\\site-packages (from chromadb) (0.15.3)\n",
      "Requirement already satisfied: kubernetes>=28.1.0 in d:\\ai & ml\\projects\\ecommerce-laptop-recomonadation\\venv\\lib\\site-packages (from chromadb) (32.0.1)\n",
      "Requirement already satisfied: tenacity>=8.2.3 in d:\\ai & ml\\projects\\ecommerce-laptop-recomonadation\\venv\\lib\\site-packages (from chromadb) (8.5.0)\n",
      "Requirement already satisfied: pyyaml>=6.0.0 in d:\\ai & ml\\projects\\ecommerce-laptop-recomonadation\\venv\\lib\\site-packages (from chromadb) (6.0.2)\n",
      "Requirement already satisfied: mmh3>=4.0.1 in d:\\ai & ml\\projects\\ecommerce-laptop-recomonadation\\venv\\lib\\site-packages (from chromadb) (5.1.0)\n",
      "Requirement already satisfied: orjson>=3.9.12 in d:\\ai & ml\\projects\\ecommerce-laptop-recomonadation\\venv\\lib\\site-packages (from chromadb) (3.10.18)\n",
      "Requirement already satisfied: httpx>=0.27.0 in d:\\ai & ml\\projects\\ecommerce-laptop-recomonadation\\venv\\lib\\site-packages (from chromadb) (0.28.1)\n",
      "Requirement already satisfied: rich>=10.11.0 in d:\\ai & ml\\projects\\ecommerce-laptop-recomonadation\\venv\\lib\\site-packages (from chromadb) (13.9.4)\n",
      "Requirement already satisfied: jsonschema>=4.19.0 in d:\\ai & ml\\projects\\ecommerce-laptop-recomonadation\\venv\\lib\\site-packages (from chromadb) (4.23.0)\n",
      "Requirement already satisfied: starlette<0.46.0,>=0.40.0 in d:\\ai & ml\\projects\\ecommerce-laptop-recomonadation\\venv\\lib\\site-packages (from fastapi==0.115.9->chromadb) (0.45.3)\n",
      "Requirement already satisfied: annotated-types>=0.6.0 in d:\\ai & ml\\projects\\ecommerce-laptop-recomonadation\\venv\\lib\\site-packages (from pydantic>=1.9->chromadb) (0.7.0)\n",
      "Requirement already satisfied: pydantic-core==2.33.2 in d:\\ai & ml\\projects\\ecommerce-laptop-recomonadation\\venv\\lib\\site-packages (from pydantic>=1.9->chromadb) (2.33.2)\n",
      "Requirement already satisfied: typing-inspection>=0.4.0 in d:\\ai & ml\\projects\\ecommerce-laptop-recomonadation\\venv\\lib\\site-packages (from pydantic>=1.9->chromadb) (0.4.0)\n",
      "Requirement already satisfied: anyio<5,>=3.6.2 in d:\\ai & ml\\projects\\ecommerce-laptop-recomonadation\\venv\\lib\\site-packages (from starlette<0.46.0,>=0.40.0->fastapi==0.115.9->chromadb) (4.9.0)\n",
      "Requirement already satisfied: exceptiongroup>=1.0.2 in d:\\ai & ml\\projects\\ecommerce-laptop-recomonadation\\venv\\lib\\site-packages (from anyio<5,>=3.6.2->starlette<0.46.0,>=0.40.0->fastapi==0.115.9->chromadb) (1.2.2)\n",
      "Requirement already satisfied: idna>=2.8 in d:\\ai & ml\\projects\\ecommerce-laptop-recomonadation\\venv\\lib\\site-packages (from anyio<5,>=3.6.2->starlette<0.46.0,>=0.40.0->fastapi==0.115.9->chromadb) (3.10)\n",
      "Requirement already satisfied: sniffio>=1.1 in d:\\ai & ml\\projects\\ecommerce-laptop-recomonadation\\venv\\lib\\site-packages (from anyio<5,>=3.6.2->starlette<0.46.0,>=0.40.0->fastapi==0.115.9->chromadb) (1.3.1)\n",
      "Requirement already satisfied: langchain-core<1.0.0,>=0.3.58 in d:\\ai & ml\\projects\\ecommerce-laptop-recomonadation\\venv\\lib\\site-packages (from langchain) (0.3.58)\n",
      "Requirement already satisfied: langchain-text-splitters<1.0.0,>=0.3.8 in d:\\ai & ml\\projects\\ecommerce-laptop-recomonadation\\venv\\lib\\site-packages (from langchain) (0.3.8)\n",
      "Requirement already satisfied: langsmith<0.4,>=0.1.17 in d:\\ai & ml\\projects\\ecommerce-laptop-recomonadation\\venv\\lib\\site-packages (from langchain) (0.3.42)\n",
      "Requirement already satisfied: SQLAlchemy<3,>=1.4 in d:\\ai & ml\\projects\\ecommerce-laptop-recomonadation\\venv\\lib\\site-packages (from langchain) (2.0.40)\n",
      "Requirement already satisfied: requests<3,>=2 in d:\\ai & ml\\projects\\ecommerce-laptop-recomonadation\\venv\\lib\\site-packages (from langchain) (2.32.3)\n",
      "Requirement already satisfied: async-timeout<5.0.0,>=4.0.0 in d:\\ai & ml\\projects\\ecommerce-laptop-recomonadation\\venv\\lib\\site-packages (from langchain) (4.0.3)\n",
      "Requirement already satisfied: jsonpatch<2.0,>=1.33 in d:\\ai & ml\\projects\\ecommerce-laptop-recomonadation\\venv\\lib\\site-packages (from langchain-core<1.0.0,>=0.3.58->langchain) (1.33)\n",
      "Requirement already satisfied: packaging<25,>=23.2 in d:\\ai & ml\\projects\\ecommerce-laptop-recomonadation\\venv\\lib\\site-packages (from langchain-core<1.0.0,>=0.3.58->langchain) (23.2)\n",
      "Requirement already satisfied: jsonpointer>=1.9 in d:\\ai & ml\\projects\\ecommerce-laptop-recomonadation\\venv\\lib\\site-packages (from jsonpatch<2.0,>=1.33->langchain-core<1.0.0,>=0.3.58->langchain) (3.0.0)\n",
      "Requirement already satisfied: requests-toolbelt<2.0.0,>=1.0.0 in d:\\ai & ml\\projects\\ecommerce-laptop-recomonadation\\venv\\lib\\site-packages (from langsmith<0.4,>=0.1.17->langchain) (1.0.0)\n",
      "Requirement already satisfied: zstandard<0.24.0,>=0.23.0 in d:\\ai & ml\\projects\\ecommerce-laptop-recomonadation\\venv\\lib\\site-packages (from langsmith<0.4,>=0.1.17->langchain) (0.23.0)\n",
      "Requirement already satisfied: certifi in d:\\ai & ml\\projects\\ecommerce-laptop-recomonadation\\venv\\lib\\site-packages (from httpx>=0.27.0->chromadb) (2025.4.26)\n",
      "Requirement already satisfied: httpcore==1.* in d:\\ai & ml\\projects\\ecommerce-laptop-recomonadation\\venv\\lib\\site-packages (from httpx>=0.27.0->chromadb) (1.0.9)\n",
      "Requirement already satisfied: h11>=0.16 in d:\\ai & ml\\projects\\ecommerce-laptop-recomonadation\\venv\\lib\\site-packages (from httpcore==1.*->httpx>=0.27.0->chromadb) (0.16.0)\n",
      "Requirement already satisfied: charset-normalizer<4,>=2 in d:\\ai & ml\\projects\\ecommerce-laptop-recomonadation\\venv\\lib\\site-packages (from requests<3,>=2->langchain) (3.4.2)\n",
      "Requirement already satisfied: urllib3<3,>=1.21.1 in d:\\ai & ml\\projects\\ecommerce-laptop-recomonadation\\venv\\lib\\site-packages (from requests<3,>=2->langchain) (2.4.0)\n",
      "Requirement already satisfied: greenlet>=1 in d:\\ai & ml\\projects\\ecommerce-laptop-recomonadation\\venv\\lib\\site-packages (from SQLAlchemy<3,>=1.4->langchain) (3.2.1)\n",
      "Requirement already satisfied: pyproject_hooks in d:\\ai & ml\\projects\\ecommerce-laptop-recomonadation\\venv\\lib\\site-packages (from build>=1.0.3->chromadb) (1.2.0)\n",
      "Requirement already satisfied: colorama in d:\\ai & ml\\projects\\ecommerce-laptop-recomonadation\\venv\\lib\\site-packages (from build>=1.0.3->chromadb) (0.4.6)\n",
      "Requirement already satisfied: importlib-metadata>=4.6 in d:\\ai & ml\\projects\\ecommerce-laptop-recomonadation\\venv\\lib\\site-packages (from build>=1.0.3->chromadb) (7.2.1)\n",
      "Requirement already satisfied: tomli>=1.1.0 in d:\\ai & ml\\projects\\ecommerce-laptop-recomonadation\\venv\\lib\\site-packages (from build>=1.0.3->chromadb) (2.2.1)\n",
      "Requirement already satisfied: zipp>=0.5 in d:\\ai & ml\\projects\\ecommerce-laptop-recomonadation\\venv\\lib\\site-packages (from importlib-metadata>=4.6->build>=1.0.3->chromadb) (3.21.0)\n",
      "Requirement already satisfied: attrs>=22.2.0 in d:\\ai & ml\\projects\\ecommerce-laptop-recomonadation\\venv\\lib\\site-packages (from jsonschema>=4.19.0->chromadb) (25.3.0)\n",
      "Requirement already satisfied: jsonschema-specifications>=2023.03.6 in d:\\ai & ml\\projects\\ecommerce-laptop-recomonadation\\venv\\lib\\site-packages (from jsonschema>=4.19.0->chromadb) (2025.4.1)\n",
      "Requirement already satisfied: referencing>=0.28.4 in d:\\ai & ml\\projects\\ecommerce-laptop-recomonadation\\venv\\lib\\site-packages (from jsonschema>=4.19.0->chromadb) (0.36.2)\n",
      "Requirement already satisfied: rpds-py>=0.7.1 in d:\\ai & ml\\projects\\ecommerce-laptop-recomonadation\\venv\\lib\\site-packages (from jsonschema>=4.19.0->chromadb) (0.24.0)\n",
      "Requirement already satisfied: six>=1.9.0 in d:\\ai & ml\\projects\\ecommerce-laptop-recomonadation\\venv\\lib\\site-packages (from kubernetes>=28.1.0->chromadb) (1.17.0)\n",
      "Requirement already satisfied: python-dateutil>=2.5.3 in d:\\ai & ml\\projects\\ecommerce-laptop-recomonadation\\venv\\lib\\site-packages (from kubernetes>=28.1.0->chromadb) (2.9.0.post0)\n",
      "Requirement already satisfied: google-auth>=1.0.1 in d:\\ai & ml\\projects\\ecommerce-laptop-recomonadation\\venv\\lib\\site-packages (from kubernetes>=28.1.0->chromadb) (2.40.1)\n",
      "Requirement already satisfied: websocket-client!=0.40.0,!=0.41.*,!=0.42.*,>=0.32.0 in d:\\ai & ml\\projects\\ecommerce-laptop-recomonadation\\venv\\lib\\site-packages (from kubernetes>=28.1.0->chromadb) (1.8.0)\n",
      "Requirement already satisfied: requests-oauthlib in d:\\ai & ml\\projects\\ecommerce-laptop-recomonadation\\venv\\lib\\site-packages (from kubernetes>=28.1.0->chromadb) (2.0.0)\n",
      "Requirement already satisfied: oauthlib>=3.2.2 in d:\\ai & ml\\projects\\ecommerce-laptop-recomonadation\\venv\\lib\\site-packages (from kubernetes>=28.1.0->chromadb) (3.2.2)\n",
      "Requirement already satisfied: durationpy>=0.7 in d:\\ai & ml\\projects\\ecommerce-laptop-recomonadation\\venv\\lib\\site-packages (from kubernetes>=28.1.0->chromadb) (0.9)\n",
      "Requirement already satisfied: cachetools<6.0,>=2.0.0 in d:\\ai & ml\\projects\\ecommerce-laptop-recomonadation\\venv\\lib\\site-packages (from google-auth>=1.0.1->kubernetes>=28.1.0->chromadb) (5.5.2)\n",
      "Requirement already satisfied: pyasn1-modules>=0.2.1 in d:\\ai & ml\\projects\\ecommerce-laptop-recomonadation\\venv\\lib\\site-packages (from google-auth>=1.0.1->kubernetes>=28.1.0->chromadb) (0.4.2)\n",
      "Requirement already satisfied: rsa<5,>=3.1.4 in d:\\ai & ml\\projects\\ecommerce-laptop-recomonadation\\venv\\lib\\site-packages (from google-auth>=1.0.1->kubernetes>=28.1.0->chromadb) (4.9.1)\n",
      "Requirement already satisfied: pyasn1>=0.1.3 in d:\\ai & ml\\projects\\ecommerce-laptop-recomonadation\\venv\\lib\\site-packages (from rsa<5,>=3.1.4->google-auth>=1.0.1->kubernetes>=28.1.0->chromadb) (0.6.1)\n",
      "Requirement already satisfied: coloredlogs in d:\\ai & ml\\projects\\ecommerce-laptop-recomonadation\\venv\\lib\\site-packages (from onnxruntime>=1.14.1->chromadb) (15.0.1)\n",
      "Requirement already satisfied: flatbuffers in d:\\ai & ml\\projects\\ecommerce-laptop-recomonadation\\venv\\lib\\site-packages (from onnxruntime>=1.14.1->chromadb) (25.2.10)\n",
      "Requirement already satisfied: protobuf in d:\\ai & ml\\projects\\ecommerce-laptop-recomonadation\\venv\\lib\\site-packages (from onnxruntime>=1.14.1->chromadb) (5.29.4)\n",
      "Requirement already satisfied: sympy in d:\\ai & ml\\projects\\ecommerce-laptop-recomonadation\\venv\\lib\\site-packages (from onnxruntime>=1.14.1->chromadb) (1.14.0)\n",
      "Requirement already satisfied: deprecated>=1.2.6 in d:\\ai & ml\\projects\\ecommerce-laptop-recomonadation\\venv\\lib\\site-packages (from opentelemetry-api>=1.2.0->chromadb) (1.2.18)\n",
      "Requirement already satisfied: wrapt<2,>=1.10 in d:\\ai & ml\\projects\\ecommerce-laptop-recomonadation\\venv\\lib\\site-packages (from deprecated>=1.2.6->opentelemetry-api>=1.2.0->chromadb) (1.17.2)\n",
      "Requirement already satisfied: googleapis-common-protos~=1.52 in d:\\ai & ml\\projects\\ecommerce-laptop-recomonadation\\venv\\lib\\site-packages (from opentelemetry-exporter-otlp-proto-grpc>=1.2.0->chromadb) (1.70.0)\n",
      "Requirement already satisfied: opentelemetry-exporter-otlp-proto-common==1.32.1 in d:\\ai & ml\\projects\\ecommerce-laptop-recomonadation\\venv\\lib\\site-packages (from opentelemetry-exporter-otlp-proto-grpc>=1.2.0->chromadb) (1.32.1)\n",
      "Requirement already satisfied: opentelemetry-proto==1.32.1 in d:\\ai & ml\\projects\\ecommerce-laptop-recomonadation\\venv\\lib\\site-packages (from opentelemetry-exporter-otlp-proto-grpc>=1.2.0->chromadb) (1.32.1)\n",
      "Requirement already satisfied: opentelemetry-semantic-conventions==0.53b1 in d:\\ai & ml\\projects\\ecommerce-laptop-recomonadation\\venv\\lib\\site-packages (from opentelemetry-sdk>=1.2.0->chromadb) (0.53b1)\n",
      "Requirement already satisfied: opentelemetry-instrumentation-asgi==0.53b1 in d:\\ai & ml\\projects\\ecommerce-laptop-recomonadation\\venv\\lib\\site-packages (from opentelemetry-instrumentation-fastapi>=0.41b0->chromadb) (0.53b1)\n",
      "Requirement already satisfied: opentelemetry-instrumentation==0.53b1 in d:\\ai & ml\\projects\\ecommerce-laptop-recomonadation\\venv\\lib\\site-packages (from opentelemetry-instrumentation-fastapi>=0.41b0->chromadb) (0.53b1)\n",
      "Requirement already satisfied: opentelemetry-util-http==0.53b1 in d:\\ai & ml\\projects\\ecommerce-laptop-recomonadation\\venv\\lib\\site-packages (from opentelemetry-instrumentation-fastapi>=0.41b0->chromadb) (0.53b1)\n",
      "Requirement already satisfied: asgiref~=3.0 in d:\\ai & ml\\projects\\ecommerce-laptop-recomonadation\\venv\\lib\\site-packages (from opentelemetry-instrumentation-asgi==0.53b1->opentelemetry-instrumentation-fastapi>=0.41b0->chromadb) (3.8.1)\n",
      "Requirement already satisfied: backoff>=1.10.0 in d:\\ai & ml\\projects\\ecommerce-laptop-recomonadation\\venv\\lib\\site-packages (from posthog>=2.4.0->chromadb) (2.2.1)\n",
      "Requirement already satisfied: distro>=1.5.0 in d:\\ai & ml\\projects\\ecommerce-laptop-recomonadation\\venv\\lib\\site-packages (from posthog>=2.4.0->chromadb) (1.9.0)\n",
      "Requirement already satisfied: markdown-it-py>=2.2.0 in d:\\ai & ml\\projects\\ecommerce-laptop-recomonadation\\venv\\lib\\site-packages (from rich>=10.11.0->chromadb) (3.0.0)\n",
      "Requirement already satisfied: pygments<3.0.0,>=2.13.0 in d:\\ai & ml\\projects\\ecommerce-laptop-recomonadation\\venv\\lib\\site-packages (from rich>=10.11.0->chromadb) (2.19.1)\n",
      "Requirement already satisfied: mdurl~=0.1 in d:\\ai & ml\\projects\\ecommerce-laptop-recomonadation\\venv\\lib\\site-packages (from markdown-it-py>=2.2.0->rich>=10.11.0->chromadb) (0.1.2)\n",
      "Requirement already satisfied: huggingface-hub<1.0,>=0.16.4 in d:\\ai & ml\\projects\\ecommerce-laptop-recomonadation\\venv\\lib\\site-packages (from tokenizers>=0.13.2->chromadb) (0.30.2)\n",
      "Requirement already satisfied: filelock in d:\\ai & ml\\projects\\ecommerce-laptop-recomonadation\\venv\\lib\\site-packages (from huggingface-hub<1.0,>=0.16.4->tokenizers>=0.13.2->chromadb) (3.18.0)\n",
      "Requirement already satisfied: fsspec>=2023.5.0 in d:\\ai & ml\\projects\\ecommerce-laptop-recomonadation\\venv\\lib\\site-packages (from huggingface-hub<1.0,>=0.16.4->tokenizers>=0.13.2->chromadb) (2025.3.2)\n",
      "Requirement already satisfied: click>=8.0.0 in d:\\ai & ml\\projects\\ecommerce-laptop-recomonadation\\venv\\lib\\site-packages (from typer>=0.9.0->chromadb) (8.1.8)\n",
      "Requirement already satisfied: shellingham>=1.3.0 in d:\\ai & ml\\projects\\ecommerce-laptop-recomonadation\\venv\\lib\\site-packages (from typer>=0.9.0->chromadb) (1.5.4)\n",
      "Requirement already satisfied: httptools>=0.6.3 in d:\\ai & ml\\projects\\ecommerce-laptop-recomonadation\\venv\\lib\\site-packages (from uvicorn[standard]>=0.18.3->chromadb) (0.6.4)\n",
      "Requirement already satisfied: python-dotenv>=0.13 in d:\\ai & ml\\projects\\ecommerce-laptop-recomonadation\\venv\\lib\\site-packages (from uvicorn[standard]>=0.18.3->chromadb) (1.1.0)\n",
      "Requirement already satisfied: watchfiles>=0.13 in d:\\ai & ml\\projects\\ecommerce-laptop-recomonadation\\venv\\lib\\site-packages (from uvicorn[standard]>=0.18.3->chromadb) (1.0.5)\n",
      "Requirement already satisfied: websockets>=10.4 in d:\\ai & ml\\projects\\ecommerce-laptop-recomonadation\\venv\\lib\\site-packages (from uvicorn[standard]>=0.18.3->chromadb) (15.0.1)\n",
      "Requirement already satisfied: humanfriendly>=9.1 in d:\\ai & ml\\projects\\ecommerce-laptop-recomonadation\\venv\\lib\\site-packages (from coloredlogs->onnxruntime>=1.14.1->chromadb) (10.0)\n",
      "Requirement already satisfied: pyreadline3 in d:\\ai & ml\\projects\\ecommerce-laptop-recomonadation\\venv\\lib\\site-packages (from humanfriendly>=9.1->coloredlogs->onnxruntime>=1.14.1->chromadb) (3.5.4)\n",
      "Requirement already satisfied: mpmath<1.4,>=1.1.0 in d:\\ai & ml\\projects\\ecommerce-laptop-recomonadation\\venv\\lib\\site-packages (from sympy->onnxruntime>=1.14.1->chromadb) (1.3.0)\n"
     ]
    }
   ],
   "source": [
    "! pip install chromadb langchain ollama"
   ]
  },
  {
   "cell_type": "code",
   "execution_count": 2,
   "id": "9d78bddb",
   "metadata": {},
   "outputs": [
    {
     "name": "stdout",
     "output_type": "stream",
     "text": [
      "Requirement already satisfied: langchain_ollama in d:\\ai & ml\\projects\\ecommerce-laptop-recomonadation\\venv\\lib\\site-packages (0.3.2)\n",
      "Requirement already satisfied: ollama<1,>=0.4.4 in d:\\ai & ml\\projects\\ecommerce-laptop-recomonadation\\venv\\lib\\site-packages (from langchain_ollama) (0.4.8)\n",
      "Requirement already satisfied: langchain-core<1.0.0,>=0.3.52 in d:\\ai & ml\\projects\\ecommerce-laptop-recomonadation\\venv\\lib\\site-packages (from langchain_ollama) (0.3.58)\n",
      "Requirement already satisfied: langsmith<0.4,>=0.1.125 in d:\\ai & ml\\projects\\ecommerce-laptop-recomonadation\\venv\\lib\\site-packages (from langchain-core<1.0.0,>=0.3.52->langchain_ollama) (0.3.42)\n",
      "Requirement already satisfied: tenacity!=8.4.0,<10.0.0,>=8.1.0 in d:\\ai & ml\\projects\\ecommerce-laptop-recomonadation\\venv\\lib\\site-packages (from langchain-core<1.0.0,>=0.3.52->langchain_ollama) (8.5.0)\n",
      "Requirement already satisfied: jsonpatch<2.0,>=1.33 in d:\\ai & ml\\projects\\ecommerce-laptop-recomonadation\\venv\\lib\\site-packages (from langchain-core<1.0.0,>=0.3.52->langchain_ollama) (1.33)\n",
      "Requirement already satisfied: PyYAML>=5.3 in d:\\ai & ml\\projects\\ecommerce-laptop-recomonadation\\venv\\lib\\site-packages (from langchain-core<1.0.0,>=0.3.52->langchain_ollama) (6.0.2)\n",
      "Requirement already satisfied: packaging<25,>=23.2 in d:\\ai & ml\\projects\\ecommerce-laptop-recomonadation\\venv\\lib\\site-packages (from langchain-core<1.0.0,>=0.3.52->langchain_ollama) (23.2)\n",
      "Requirement already satisfied: typing-extensions>=4.7 in d:\\ai & ml\\projects\\ecommerce-laptop-recomonadation\\venv\\lib\\site-packages (from langchain-core<1.0.0,>=0.3.52->langchain_ollama) (4.13.2)\n",
      "Requirement already satisfied: pydantic<3.0.0,>=2.5.2 in d:\\ai & ml\\projects\\ecommerce-laptop-recomonadation\\venv\\lib\\site-packages (from langchain-core<1.0.0,>=0.3.52->langchain_ollama) (2.11.4)\n",
      "Requirement already satisfied: jsonpointer>=1.9 in d:\\ai & ml\\projects\\ecommerce-laptop-recomonadation\\venv\\lib\\site-packages (from jsonpatch<2.0,>=1.33->langchain-core<1.0.0,>=0.3.52->langchain_ollama) (3.0.0)\n",
      "Requirement already satisfied: httpx<1,>=0.23.0 in d:\\ai & ml\\projects\\ecommerce-laptop-recomonadation\\venv\\lib\\site-packages (from langsmith<0.4,>=0.1.125->langchain-core<1.0.0,>=0.3.52->langchain_ollama) (0.28.1)\n",
      "Requirement already satisfied: orjson<4.0.0,>=3.9.14 in d:\\ai & ml\\projects\\ecommerce-laptop-recomonadation\\venv\\lib\\site-packages (from langsmith<0.4,>=0.1.125->langchain-core<1.0.0,>=0.3.52->langchain_ollama) (3.10.18)\n",
      "Requirement already satisfied: requests<3,>=2 in d:\\ai & ml\\projects\\ecommerce-laptop-recomonadation\\venv\\lib\\site-packages (from langsmith<0.4,>=0.1.125->langchain-core<1.0.0,>=0.3.52->langchain_ollama) (2.32.3)\n",
      "Requirement already satisfied: requests-toolbelt<2.0.0,>=1.0.0 in d:\\ai & ml\\projects\\ecommerce-laptop-recomonadation\\venv\\lib\\site-packages (from langsmith<0.4,>=0.1.125->langchain-core<1.0.0,>=0.3.52->langchain_ollama) (1.0.0)\n",
      "Requirement already satisfied: zstandard<0.24.0,>=0.23.0 in d:\\ai & ml\\projects\\ecommerce-laptop-recomonadation\\venv\\lib\\site-packages (from langsmith<0.4,>=0.1.125->langchain-core<1.0.0,>=0.3.52->langchain_ollama) (0.23.0)\n",
      "Requirement already satisfied: anyio in d:\\ai & ml\\projects\\ecommerce-laptop-recomonadation\\venv\\lib\\site-packages (from httpx<1,>=0.23.0->langsmith<0.4,>=0.1.125->langchain-core<1.0.0,>=0.3.52->langchain_ollama) (4.9.0)\n",
      "Requirement already satisfied: certifi in d:\\ai & ml\\projects\\ecommerce-laptop-recomonadation\\venv\\lib\\site-packages (from httpx<1,>=0.23.0->langsmith<0.4,>=0.1.125->langchain-core<1.0.0,>=0.3.52->langchain_ollama) (2025.4.26)\n",
      "Requirement already satisfied: httpcore==1.* in d:\\ai & ml\\projects\\ecommerce-laptop-recomonadation\\venv\\lib\\site-packages (from httpx<1,>=0.23.0->langsmith<0.4,>=0.1.125->langchain-core<1.0.0,>=0.3.52->langchain_ollama) (1.0.9)\n",
      "Requirement already satisfied: idna in d:\\ai & ml\\projects\\ecommerce-laptop-recomonadation\\venv\\lib\\site-packages (from httpx<1,>=0.23.0->langsmith<0.4,>=0.1.125->langchain-core<1.0.0,>=0.3.52->langchain_ollama) (3.10)\n",
      "Requirement already satisfied: h11>=0.16 in d:\\ai & ml\\projects\\ecommerce-laptop-recomonadation\\venv\\lib\\site-packages (from httpcore==1.*->httpx<1,>=0.23.0->langsmith<0.4,>=0.1.125->langchain-core<1.0.0,>=0.3.52->langchain_ollama) (0.16.0)\n",
      "Requirement already satisfied: annotated-types>=0.6.0 in d:\\ai & ml\\projects\\ecommerce-laptop-recomonadation\\venv\\lib\\site-packages (from pydantic<3.0.0,>=2.5.2->langchain-core<1.0.0,>=0.3.52->langchain_ollama) (0.7.0)\n",
      "Requirement already satisfied: pydantic-core==2.33.2 in d:\\ai & ml\\projects\\ecommerce-laptop-recomonadation\\venv\\lib\\site-packages (from pydantic<3.0.0,>=2.5.2->langchain-core<1.0.0,>=0.3.52->langchain_ollama) (2.33.2)\n",
      "Requirement already satisfied: typing-inspection>=0.4.0 in d:\\ai & ml\\projects\\ecommerce-laptop-recomonadation\\venv\\lib\\site-packages (from pydantic<3.0.0,>=2.5.2->langchain-core<1.0.0,>=0.3.52->langchain_ollama) (0.4.0)\n",
      "Requirement already satisfied: charset-normalizer<4,>=2 in d:\\ai & ml\\projects\\ecommerce-laptop-recomonadation\\venv\\lib\\site-packages (from requests<3,>=2->langsmith<0.4,>=0.1.125->langchain-core<1.0.0,>=0.3.52->langchain_ollama) (3.4.2)\n",
      "Requirement already satisfied: urllib3<3,>=1.21.1 in d:\\ai & ml\\projects\\ecommerce-laptop-recomonadation\\venv\\lib\\site-packages (from requests<3,>=2->langsmith<0.4,>=0.1.125->langchain-core<1.0.0,>=0.3.52->langchain_ollama) (2.4.0)\n",
      "Requirement already satisfied: exceptiongroup>=1.0.2 in d:\\ai & ml\\projects\\ecommerce-laptop-recomonadation\\venv\\lib\\site-packages (from anyio->httpx<1,>=0.23.0->langsmith<0.4,>=0.1.125->langchain-core<1.0.0,>=0.3.52->langchain_ollama) (1.2.2)\n",
      "Requirement already satisfied: sniffio>=1.1 in d:\\ai & ml\\projects\\ecommerce-laptop-recomonadation\\venv\\lib\\site-packages (from anyio->httpx<1,>=0.23.0->langsmith<0.4,>=0.1.125->langchain-core<1.0.0,>=0.3.52->langchain_ollama) (1.3.1)\n"
     ]
    }
   ],
   "source": [
    "! pip install langchain_ollama"
   ]
  },
  {
   "cell_type": "code",
   "execution_count": 3,
   "id": "c5b3dea1",
   "metadata": {},
   "outputs": [],
   "source": [
    "import getpass\n",
    "import os\n",
    "\n",
    "from langchain_text_splitters import RecursiveCharacterTextSplitter\n",
    "from langchain_ollama.chat_models import ChatOllama\n",
    "from langchain_community.vectorstores import Chroma\n",
    "from langchain_ollama.embeddings import OllamaEmbeddings\n",
    "from langchain_community.document_loaders import CSVLoader\n",
    "from langchain_community.vectorstores import FAISS"
   ]
  },
  {
   "cell_type": "code",
   "execution_count": 4,
   "id": "73db72fa",
   "metadata": {},
   "outputs": [],
   "source": [
    "def CSVFileLoader(file_path):\n",
    "    docs = []\n",
    "    loader = CSVLoader(file_path=file_path)  # Load each CSV file individually\n",
    "    docs.extend(loader.load())  # Append loaded data to the list\n",
    "    return docs"
   ]
  },
  {
   "cell_type": "code",
   "execution_count": 5,
   "id": "57c71a5e",
   "metadata": {},
   "outputs": [],
   "source": [
    "llm = ChatOllama(model=\"llama3.2\" )\n",
    "\n",
    "text_splitter = RecursiveCharacterTextSplitter(\n",
    "    chunk_size=500,\n",
    "    chunk_overlap=100,\n",
    "    length_function=len,\n",
    "    is_separator_regex=False,\n",
    ")"
   ]
  },
  {
   "cell_type": "code",
   "execution_count": 6,
   "id": "b7c1e664",
   "metadata": {},
   "outputs": [],
   "source": [
    "# Combine all loaded documents\n",
    "all_documents = CSVFileLoader('D:\\AI & ML\\Projects\\Ecommerce-Laptop-Recomonadation\\Data\\Super_Small_Clean_Laptops.csv')"
   ]
  },
  {
   "cell_type": "code",
   "execution_count": 7,
   "id": "6178b965",
   "metadata": {},
   "outputs": [
    {
     "data": {
      "text/plain": [
       "[Document(metadata={'source': 'D:\\\\AI & ML\\\\Projects\\\\Ecommerce-Laptop-Recomonadation\\\\Data\\\\Super_Small_Clean_Laptops.csv', 'row': 0}, page_content=\"LAPTOP NAME: HP Victus AI AMD Ryzen 5 Hexa Core 8645HS - (16 GB/512 GB SSD/Windows 11 Home/4 GB Graphics/NVIDIA GeF...\\nPRICE: 58990\\nRATING: 4.3\\nSPECIFICATIONS: AMD Ryzen 5 Hexa Core Processor\\n16 GB DDR5 RAM\\nWindows 11 Home Operating System\\n512 GB SSD\\n39.62 cm (15.6 inch) Display\\n1 Year Onsite Warranty\\nPRODUCT URL: https://www.flipkart.com/hp-victus-ai-amd-ryzen-5-hexa-core-8645hs-16-gb-512-gb-ssd-windows-11-home-4-graphics-nvidia-geforce-rtx-2050-fb3003ax-gaming-laptop/p/itme1af8ffef0502?pid=COMH8XZFKQRGWMWT&lid=LSTCOMH8XZFKQRGWMWTNDYQSA&marketplace=FLIPKART&q=Laptops&store=6bo%2Fb5g&srno=s_1_1&otracker=search&otracker1=search&fm=organic&iid=en_BrzwIbL2tX2MCd2oXWAUUQ7wj-jDcphIVpLgHADrQM1X35_Y7IlL33NzdBUR8bvtPnJzUv9HU4CCE7DPnHeaYPUFjCTyOHoHZs-Z5_PS_w0%3D&ppt=hp&ppn=homepage&ssid=7n76hozdhc0000001746468761843&qH=48b773c837465a99\\nclean_specs: {'Processor': None, 'RAM': None, 'Storage': '512 GB SSD', 'Operating System': 'Windows 11 Home', 'Display': None, 'Warranty': '1 Year'}\\nProcessor: \\nRAM: \\nStorage: 512 GB SSD\\nOperating System: Windows 11 Home\\nDisplay: \\nWarranty: 1 Year\"),\n",
       " Document(metadata={'source': 'D:\\\\AI & ML\\\\Projects\\\\Ecommerce-Laptop-Recomonadation\\\\Data\\\\Super_Small_Clean_Laptops.csv', 'row': 1}, page_content=\"LAPTOP NAME: HP Victus Intel Core i5 12th Gen 12450H - (8 GB/512 GB SSD/Windows 11 Home/4 GB Graphics/NVIDIA GeForc...\\nPRICE: 54990\\nRATING: 4.3\\nSPECIFICATIONS: Intel Core i5 Processor (12th Gen)\\n8 GB DDR4 RAM\\nWindows 11 Operating System\\n512 GB SSD\\n39.62 cm (15.6 inch) Display\\n1 Year Onsite Warranty\\nPRODUCT URL: https://www.flipkart.com/hp-victus-intel-core-i5-12th-gen-12450h-8-gb-512-gb-ssd-windows-11-home-4-graphics-nvidia-geforce-rtx-2050-15-fa1226tx-gaming-laptop/p/itm9ad6649afe111?pid=COMHY8KVEKZVERUA&lid=LSTCOMHY8KVEKZVERUAB5OFP8&marketplace=FLIPKART&q=Laptops&store=6bo%2Fb5g&srno=s_1_2&otracker=search&otracker1=search&fm=organic&iid=en_BrzwIbL2tX2MCd2oXWAUUQ7wj-jDcphIVpLgHADrQM3FiH6OEYotmmkbjUdBGxJdqfzrel1gLU0D4wgcGeiT-fUFjCTyOHoHZs-Z5_PS_w0%3D&ppt=hp&ppn=homepage&ssid=7n76hozdhc0000001746468761843&qH=48b773c837465a99\\nclean_specs: {'Processor': 'Intel Core i5 Processor (12th Gen)', 'RAM': '8 GB DDR4', 'Storage': '512 GB SSD', 'Operating System': 'Windows 11', 'Display': None, 'Warranty': '1 Year'}\\nProcessor: Intel Core i5 Processor (12th Gen)\\nRAM: 8 GB DDR4\\nStorage: 512 GB SSD\\nOperating System: Windows 11\\nDisplay: \\nWarranty: 1 Year\"),\n",
       " Document(metadata={'source': 'D:\\\\AI & ML\\\\Projects\\\\Ecommerce-Laptop-Recomonadation\\\\Data\\\\Super_Small_Clean_Laptops.csv', 'row': 2}, page_content=\"LAPTOP NAME: Acer Aspire 3 Intel Core i5 13th Gen 1334U - (16 GB/512 GB SSD/Windows 11 Home) A324-53 Thin and Light...\\nPRICE: 38990\\nRATING: 4.3\\nSPECIFICATIONS: Intel Core i5 Processor (13th Gen)\\n16 GB DDR4 RAM\\nWindows 11 Operating System\\n512 GB SSD\\n35.56 cm (14 Inch) Display\\n1 Year Carry-in Warranty\\nPRODUCT URL: https://www.flipkart.com/acer-aspire-3-intel-core-i5-13th-gen-1334u-16-gb-512-gb-ssd-windows-11-home-a324-53-thin-light-laptop/p/itm707770fddc7e9?pid=COMH4B6CGZKHKUV3&lid=LSTCOMH4B6CGZKHKUV37HVWQK&marketplace=FLIPKART&q=Laptops&store=6bo%2Fb5g&srno=s_1_3&otracker=search&otracker1=search&fm=organic&iid=e32c72c7-d2f8-49e0-909a-871cf76840a9.COMH4B6CGZKHKUV3.SEARCH&ppt=hp&ppn=homepage&ssid=7n76hozdhc0000001746468761843&qH=48b773c837465a99\\nclean_specs: {'Processor': 'Intel Core i5 Processor (13th Gen)', 'RAM': '16 GB DDR4', 'Storage': '512 GB SSD', 'Operating System': 'Windows 11', 'Display': '35.56 cm (14 Inch) Display', 'Warranty': '1 Year'}\\nProcessor: Intel Core i5 Processor (13th Gen)\\nRAM: 16 GB DDR4\\nStorage: 512 GB SSD\\nOperating System: Windows 11\\nDisplay: 35.56 cm (14 Inch) Display\\nWarranty: 1 Year\"),\n",
       " Document(metadata={'source': 'D:\\\\AI & ML\\\\Projects\\\\Ecommerce-Laptop-Recomonadation\\\\Data\\\\Super_Small_Clean_Laptops.csv', 'row': 3}, page_content=\"LAPTOP NAME: SAMSUNG Galaxy Book4 Metal Intel Core i5 13th Gen 1335U - (16 GB/512 GB SSD/Windows 11 Home) NP750XGJ-...\\nPRICE: 51990\\nRATING: 4.5\\nSPECIFICATIONS: Intel Core i5 Processor (13th Gen)\\n16 GB LPDDR4X RAM\\nWindows 11 Operating System\\n512 GB SSD\\n39.62 cm (15.6 Inch) Display\\n1 Year Manufacturer Warranty for Laptop and 6 Months for In-Box Accessories\\nPRODUCT URL: https://www.flipkart.com/samsung-galaxy-book4-metal-intel-core-i5-13th-gen-1335u-16-gb-512-gb-ssd-windows-11-home-np750xgj-kg2in-np750xgj-lg2in-thin-light-laptop/p/itm820dc496ef160?pid=COMGZUYDGFJGHZR4&lid=LSTCOMGZUYDGFJGHZR4JPVIN2&marketplace=FLIPKART&q=Laptops&store=6bo%2Fb5g&spotlightTagId=default_BestsellerId_6bo%2Fb5g&srno=s_1_4&otracker=search&otracker1=search&fm=organic&iid=e32c72c7-d2f8-49e0-909a-871cf76840a9.COMGZUYDGFJGHZR4.SEARCH&ppt=hp&ppn=homepage&ssid=7n76hozdhc0000001746468761843&qH=48b773c837465a99\\nclean_specs: {'Processor': 'Intel Core i5 Processor (13th Gen)', 'RAM': '16 GB LPDDR4', 'Storage': '512 GB SSD', 'Operating System': 'Windows 11', 'Display': None, 'Warranty': '1 Year'}\\nProcessor: Intel Core i5 Processor (13th Gen)\\nRAM: 16 GB LPDDR4\\nStorage: 512 GB SSD\\nOperating System: Windows 11\\nDisplay: \\nWarranty: 1 Year\"),\n",
       " Document(metadata={'source': 'D:\\\\AI & ML\\\\Projects\\\\Ecommerce-Laptop-Recomonadation\\\\Data\\\\Super_Small_Clean_Laptops.csv', 'row': 4}, page_content=\"LAPTOP NAME: SAMSUNG Galaxy Book4 Metal Intel Core i7 13th Gen 1355U - (16 GB/512 GB SSD/Windows 11 Home) NP750XGJ-...\\nPRICE: 59990\\nRATING: 4.4\\nSPECIFICATIONS: Intel Core i7 Processor (13th Gen)\\n16 GB LPDDR4X RAM\\nWindows 11 Operating System\\n512 GB SSD\\n39.62 cm (15.6 Inch) Display\\n1 Year Manufacturer Warranty for Laptop and 6 Months for In-Box Accessories\\nPRODUCT URL: https://www.flipkart.com/samsung-galaxy-book4-metal-intel-core-i7-13th-gen-1355u-16-gb-512-gb-ssd-windows-11-home-np750xgj-kg3in-np750xgj-lg3in-thin-light-laptop/p/itm820dc496ef160?pid=COMGZUYDYPUZAAXD&lid=LSTCOMGZUYDYPUZAAXDBMAOEF&marketplace=FLIPKART&q=Laptops&store=6bo%2Fb5g&spotlightTagId=default_BestsellerId_6bo%2Fb5g&srno=s_1_5&otracker=search&otracker1=search&fm=organic&iid=e32c72c7-d2f8-49e0-909a-871cf76840a9.COMGZUYDYPUZAAXD.SEARCH&ppt=hp&ppn=homepage&ssid=7n76hozdhc0000001746468761843&qH=48b773c837465a99\\nclean_specs: {'Processor': 'Intel Core i7 Processor (13th Gen)', 'RAM': '16 GB LPDDR4', 'Storage': '512 GB SSD', 'Operating System': 'Windows 11', 'Display': None, 'Warranty': '1 Year'}\\nProcessor: Intel Core i7 Processor (13th Gen)\\nRAM: 16 GB LPDDR4\\nStorage: 512 GB SSD\\nOperating System: Windows 11\\nDisplay: \\nWarranty: 1 Year\"),\n",
       " Document(metadata={'source': 'D:\\\\AI & ML\\\\Projects\\\\Ecommerce-Laptop-Recomonadation\\\\Data\\\\Super_Small_Clean_Laptops.csv', 'row': 5}, page_content=\"LAPTOP NAME: Acer Swift Go 14 TouchScreen AI PC Intel Core Ultra 5 125H - (16 GB/512 GB SSD/Windows 11 Home) SFG14-...\\nPRICE: 63990\\nRATING: 4.3\\nSPECIFICATIONS: Intel Core Ultra 5 Processor\\n16 GB LPDDR5X RAM\\nWindows 11 Operating System\\n512 GB SSD\\n35.56 cm (14 Inch) Touchscreen Display\\n1 Year Carry-in Warranty\\nPRODUCT URL: https://www.flipkart.com/acer-swift-go-14-touchscreen-ai-pc-intel-core-ultra-5-125h-16-gb-512-gb-ssd-windows-11-home-sfg14-73t-58pz-thin-light-laptop/p/itm174fc1bfd505f?pid=COMGZH2UKZZXYGSA&lid=LSTCOMGZH2UKZZXYGSAF4SIUU&marketplace=FLIPKART&q=Laptops&store=6bo%2Fb5g&srno=s_1_6&otracker=search&otracker1=search&fm=organic&iid=en_BrzwIbL2tX2MCd2oXWAUUQ7wj-jDcphIVpLgHADrQM0u_88iK54EAP1JseXkgRQ3FTfyuUIyxcphu17d9G3tmRhTy0lUJ14SzoMSv_CzLF0%3D&ppt=hp&ppn=homepage&ssid=7n76hozdhc0000001746468761843&qH=48b773c837465a99\\nclean_specs: {'Processor': None, 'RAM': None, 'Storage': '512 GB SSD', 'Operating System': 'Windows 11', 'Display': None, 'Warranty': '1 Year'}\\nProcessor: \\nRAM: \\nStorage: 512 GB SSD\\nOperating System: Windows 11\\nDisplay: \\nWarranty: 1 Year\"),\n",
       " Document(metadata={'source': 'D:\\\\AI & ML\\\\Projects\\\\Ecommerce-Laptop-Recomonadation\\\\Data\\\\Super_Small_Clean_Laptops.csv', 'row': 6}, page_content=\"LAPTOP NAME: ASUS Vivobook 15, with Backlit Keyboard, Intel Core i5 12th Gen 1235U - (16 GB/512 GB SSD/Windows 11 H...\\nPRICE: 45990\\nRATING: 4.2\\nSPECIFICATIONS: Intel Core i5 Processor (12th Gen)\\n16 GB DDR4 RAM\\nWindows 11 Operating System\\n512 GB SSD\\n39.62 cm (15.6 Inch) Display\\n1 Year Onsite Warranty\\nPRODUCT URL: https://www.flipkart.com/asus-vivobook-15-backlit-keyboard-intel-core-i5-12th-gen-1235u-16-gb-512-gb-ssd-windows-11-home-x1504za-nj540ws-x1504za-nj542ws-thin-light-laptop/p/itm200184e4e0443?pid=COMHYG8ZSP9DC2GZ&lid=LSTCOMHYG8ZSP9DC2GZECEZQA&marketplace=FLIPKART&q=Laptops&store=6bo%2Fb5g&srno=s_1_7&otracker=search&otracker1=search&fm=organic&iid=e32c72c7-d2f8-49e0-909a-871cf76840a9.COMHYG8ZSP9DC2GZ.SEARCH&ppt=hp&ppn=homepage&ssid=7n76hozdhc0000001746468761843&qH=48b773c837465a99\\nclean_specs: {'Processor': 'Intel Core i5 Processor (12th Gen)', 'RAM': '16 GB DDR4', 'Storage': '512 GB SSD', 'Operating System': 'Windows 11', 'Display': None, 'Warranty': '1 Year'}\\nProcessor: Intel Core i5 Processor (12th Gen)\\nRAM: 16 GB DDR4\\nStorage: 512 GB SSD\\nOperating System: Windows 11\\nDisplay: \\nWarranty: 1 Year\"),\n",
       " Document(metadata={'source': 'D:\\\\AI & ML\\\\Projects\\\\Ecommerce-Laptop-Recomonadation\\\\Data\\\\Super_Small_Clean_Laptops.csv', 'row': 7}, page_content=\"LAPTOP NAME: Acer Aspire 3 Intel Celeron Dual Core - (8 GB/512 GB SSD/Windows 11 Home) A311-45 Thin and Light Lapto...\\nPRICE: 17990\\nRATING: 3.8\\nSPECIFICATIONS: Intel Celeron Dual Core Processor\\n8 GB DDR4 RAM\\n64 bit Windows 11 Home Operating System\\n512 GB SSD\\n29.46 cm (11.6 inch) Display\\n1 Year Warranty\\nPRODUCT URL: https://www.flipkart.com/acer-aspire-3-intel-celeron-dual-core-8-gb-512-gb-ssd-windows-11-home-a311-45-thin-light-laptop/p/itmad38595c5a902?pid=COMH7NCZY2QDJ5Z4&lid=LSTCOMH7NCZY2QDJ5Z4RHDRWI&marketplace=FLIPKART&q=Laptops&store=6bo%2Fb5g&srno=s_1_8&otracker=search&otracker1=search&fm=organic&iid=e32c72c7-d2f8-49e0-909a-871cf76840a9.COMH7NCZY2QDJ5Z4.SEARCH&ppt=hp&ppn=homepage&ssid=7n76hozdhc0000001746468761843&qH=48b773c837465a99\\nclean_specs: {'Processor': None, 'RAM': '8 GB DDR4', 'Storage': '512 GB SSD', 'Operating System': 'Windows 11 Home', 'Display': None, 'Warranty': '1 Year'}\\nProcessor: \\nRAM: 8 GB DDR4\\nStorage: 512 GB SSD\\nOperating System: Windows 11 Home\\nDisplay: \\nWarranty: 1 Year\"),\n",
       " Document(metadata={'source': 'D:\\\\AI & ML\\\\Projects\\\\Ecommerce-Laptop-Recomonadation\\\\Data\\\\Super_Small_Clean_Laptops.csv', 'row': 8}, page_content=\"LAPTOP NAME: MSI Thin 15 Intel Core i5 12th Gen 12450H - (16 GB/512 GB SSD/Windows 11 Home/4 GB Graphics/NVIDIA GeF...\\nPRICE: 50990\\nRATING: 4.3\\nSPECIFICATIONS: Intel Core i5 Processor (12th Gen)\\n16 GB DDR4 RAM\\nWindows 11 Operating System\\n512 GB SSD\\n39.62 cm (15.6 Inch) Display\\n2 Year Onsite Warranty\\nPRODUCT URL: https://www.flipkart.com/msi-thin-15-intel-core-i5-12th-gen-12450h-16-gb-512-gb-ssd-windows-11-home-4-graphics-nvidia-geforce-rtx-2050-144-hz-b12ucx-2471in-gaming-laptop/p/itmc1581367ea4e2?pid=COMGYSFG4WHPVAVZ&lid=LSTCOMGYSFG4WHPVAVZ6L3G5Q&marketplace=FLIPKART&q=Laptops&store=6bo%2Fb5g&srno=s_1_9&otracker=search&otracker1=search&fm=organic&iid=e32c72c7-d2f8-49e0-909a-871cf76840a9.COMGYSFG4WHPVAVZ.SEARCH&ppt=hp&ppn=homepage&ssid=7n76hozdhc0000001746468761843&qH=48b773c837465a99\\nclean_specs: {'Processor': 'Intel Core i5 Processor (12th Gen)', 'RAM': '16 GB DDR4', 'Storage': '512 GB SSD', 'Operating System': 'Windows 11', 'Display': None, 'Warranty': '2 Year'}\\nProcessor: Intel Core i5 Processor (12th Gen)\\nRAM: 16 GB DDR4\\nStorage: 512 GB SSD\\nOperating System: Windows 11\\nDisplay: \\nWarranty: 2 Year\"),\n",
       " Document(metadata={'source': 'D:\\\\AI & ML\\\\Projects\\\\Ecommerce-Laptop-Recomonadation\\\\Data\\\\Super_Small_Clean_Laptops.csv', 'row': 9}, page_content=\"LAPTOP NAME: ASUS Expertbook P1 Intel Core i7 13th Gen 13620H - (32 GB/512 GB SSD/Windows 11 Home) P1403CVA-S60940W...\\nPRICE: 68990\\nRATING: 3.8\\nSPECIFICATIONS: Intel Core i7 Processor (13th Gen)\\n32 GB DDR5 RAM\\nWindows 11 Home Operating System\\n512 GB SSD\\n35.56 cm (14 inch) Display\\nMicrosoft Office Home 2024, Microsoft 365 Basic\\n1 Year Onsite Warranty\\nPRODUCT URL: https://www.flipkart.com/asus-expertbook-p1-intel-core-i7-13th-gen-13620h-32-gb-512-gb-ssd-windows-11-home-p1403cva-s60940ws-thin-light-laptop/p/itmc8b94112958cf?pid=COMH8Z2QT98FWRGH&lid=LSTCOMH8Z2QT98FWRGH3QRD3U&marketplace=FLIPKART&q=Laptops&store=6bo%2Fb5g&srno=s_1_10&otracker=search&otracker1=search&fm=organic&iid=e32c72c7-d2f8-49e0-909a-871cf76840a9.COMH8Z2QT98FWRGH.SEARCH&ppt=hp&ppn=homepage&ssid=7n76hozdhc0000001746468761843&qH=48b773c837465a99\\nclean_specs: {'Processor': 'Intel Core i7 Processor (13th Gen)', 'RAM': None, 'Storage': '512 GB SSD', 'Operating System': 'Windows 11 Home', 'Display': '35.56 cm (14 inch) Display', 'Warranty': '1 Year'}\\nProcessor: Intel Core i7 Processor (13th Gen)\\nRAM: \\nStorage: 512 GB SSD\\nOperating System: Windows 11 Home\\nDisplay: 35.56 cm (14 inch) Display\\nWarranty: 1 Year\")]"
      ]
     },
     "execution_count": 7,
     "metadata": {},
     "output_type": "execute_result"
    }
   ],
   "source": [
    "all_documents"
   ]
  },
  {
   "cell_type": "code",
   "execution_count": 8,
   "id": "c2628ce8",
   "metadata": {},
   "outputs": [
    {
     "name": "stdout",
     "output_type": "stream",
     "text": [
      "[Document(metadata={'source': 'D:\\\\AI & ML\\\\Projects\\\\Ecommerce-Laptop-Recomonadation\\\\Data\\\\Super_Small_Clean_Laptops.csv', 'row': 0}, page_content='LAPTOP NAME: HP Victus AI AMD Ryzen 5 Hexa Core 8645HS - (16 GB/512 GB SSD/Windows 11 Home/4 GB Graphics/NVIDIA GeF...\\nPRICE: 58990\\nRATING: 4.3\\nSPECIFICATIONS: AMD Ryzen 5 Hexa Core Processor\\n16 GB DDR5 RAM\\nWindows 11 Home Operating System\\n512 GB SSD\\n39.62 cm (15.6 inch) Display\\n1 Year Onsite Warranty'), Document(metadata={'source': 'D:\\\\AI & ML\\\\Projects\\\\Ecommerce-Laptop-Recomonadation\\\\Data\\\\Super_Small_Clean_Laptops.csv', 'row': 0}, page_content='PRODUCT URL:'), Document(metadata={'source': 'D:\\\\AI & ML\\\\Projects\\\\Ecommerce-Laptop-Recomonadation\\\\Data\\\\Super_Small_Clean_Laptops.csv', 'row': 0}, page_content='https://www.flipkart.com/hp-victus-ai-amd-ryzen-5-hexa-core-8645hs-16-gb-512-gb-ssd-windows-11-home-4-graphics-nvidia-geforce-rtx-2050-fb3003ax-gaming-laptop/p/itme1af8ffef0502?pid=COMH8XZFKQRGWMWT&lid=LSTCOMH8XZFKQRGWMWTNDYQSA&marketplace=FLIPKART&q=Laptops&store=6bo%2Fb5g&srno=s_1_1&otracker=search&otracker1=search&fm=organic&iid=en_BrzwIbL2tX2MCd2oXWAUUQ7wj-jDcphIVpLgHADrQM1X35_Y7IlL33NzdBUR8bvtPnJzUv9HU4CCE7DPnHeaYPUFjCTyOHoHZs-Z5_PS_w0%3D&ppt=hp&ppn=homepage&ssid=7n76hozdhc0000001746468761'), Document(metadata={'source': 'D:\\\\AI & ML\\\\Projects\\\\Ecommerce-Laptop-Recomonadation\\\\Data\\\\Super_Small_Clean_Laptops.csv', 'row': 0}, page_content='vtPnJzUv9HU4CCE7DPnHeaYPUFjCTyOHoHZs-Z5_PS_w0%3D&ppt=hp&ppn=homepage&ssid=7n76hozdhc0000001746468761843&qH=48b773c837465a99'), Document(metadata={'source': 'D:\\\\AI & ML\\\\Projects\\\\Ecommerce-Laptop-Recomonadation\\\\Data\\\\Super_Small_Clean_Laptops.csv', 'row': 0}, page_content=\"clean_specs: {'Processor': None, 'RAM': None, 'Storage': '512 GB SSD', 'Operating System': 'Windows 11 Home', 'Display': None, 'Warranty': '1 Year'}\\nProcessor: \\nRAM: \\nStorage: 512 GB SSD\\nOperating System: Windows 11 Home\\nDisplay: \\nWarranty: 1 Year\"), Document(metadata={'source': 'D:\\\\AI & ML\\\\Projects\\\\Ecommerce-Laptop-Recomonadation\\\\Data\\\\Super_Small_Clean_Laptops.csv', 'row': 1}, page_content='LAPTOP NAME: HP Victus Intel Core i5 12th Gen 12450H - (8 GB/512 GB SSD/Windows 11 Home/4 GB Graphics/NVIDIA GeForc...\\nPRICE: 54990\\nRATING: 4.3\\nSPECIFICATIONS: Intel Core i5 Processor (12th Gen)\\n8 GB DDR4 RAM\\nWindows 11 Operating System\\n512 GB SSD\\n39.62 cm (15.6 inch) Display\\n1 Year Onsite Warranty'), Document(metadata={'source': 'D:\\\\AI & ML\\\\Projects\\\\Ecommerce-Laptop-Recomonadation\\\\Data\\\\Super_Small_Clean_Laptops.csv', 'row': 1}, page_content='PRODUCT URL:'), Document(metadata={'source': 'D:\\\\AI & ML\\\\Projects\\\\Ecommerce-Laptop-Recomonadation\\\\Data\\\\Super_Small_Clean_Laptops.csv', 'row': 1}, page_content='https://www.flipkart.com/hp-victus-intel-core-i5-12th-gen-12450h-8-gb-512-gb-ssd-windows-11-home-4-graphics-nvidia-geforce-rtx-2050-15-fa1226tx-gaming-laptop/p/itm9ad6649afe111?pid=COMHY8KVEKZVERUA&lid=LSTCOMHY8KVEKZVERUAB5OFP8&marketplace=FLIPKART&q=Laptops&store=6bo%2Fb5g&srno=s_1_2&otracker=search&otracker1=search&fm=organic&iid=en_BrzwIbL2tX2MCd2oXWAUUQ7wj-jDcphIVpLgHADrQM3FiH6OEYotmmkbjUdBGxJdqfzrel1gLU0D4wgcGeiT-fUFjCTyOHoHZs-Z5_PS_w0%3D&ppt=hp&ppn=homepage&ssid=7n76hozdhc0000001746468761'), Document(metadata={'source': 'D:\\\\AI & ML\\\\Projects\\\\Ecommerce-Laptop-Recomonadation\\\\Data\\\\Super_Small_Clean_Laptops.csv', 'row': 1}, page_content='Jdqfzrel1gLU0D4wgcGeiT-fUFjCTyOHoHZs-Z5_PS_w0%3D&ppt=hp&ppn=homepage&ssid=7n76hozdhc0000001746468761843&qH=48b773c837465a99'), Document(metadata={'source': 'D:\\\\AI & ML\\\\Projects\\\\Ecommerce-Laptop-Recomonadation\\\\Data\\\\Super_Small_Clean_Laptops.csv', 'row': 1}, page_content=\"clean_specs: {'Processor': 'Intel Core i5 Processor (12th Gen)', 'RAM': '8 GB DDR4', 'Storage': '512 GB SSD', 'Operating System': 'Windows 11', 'Display': None, 'Warranty': '1 Year'}\\nProcessor: Intel Core i5 Processor (12th Gen)\\nRAM: 8 GB DDR4\\nStorage: 512 GB SSD\\nOperating System: Windows 11\\nDisplay: \\nWarranty: 1 Year\"), Document(metadata={'source': 'D:\\\\AI & ML\\\\Projects\\\\Ecommerce-Laptop-Recomonadation\\\\Data\\\\Super_Small_Clean_Laptops.csv', 'row': 2}, page_content='LAPTOP NAME: Acer Aspire 3 Intel Core i5 13th Gen 1334U - (16 GB/512 GB SSD/Windows 11 Home) A324-53 Thin and Light...\\nPRICE: 38990\\nRATING: 4.3\\nSPECIFICATIONS: Intel Core i5 Processor (13th Gen)\\n16 GB DDR4 RAM\\nWindows 11 Operating System\\n512 GB SSD\\n35.56 cm (14 Inch) Display\\n1 Year Carry-in Warranty'), Document(metadata={'source': 'D:\\\\AI & ML\\\\Projects\\\\Ecommerce-Laptop-Recomonadation\\\\Data\\\\Super_Small_Clean_Laptops.csv', 'row': 2}, page_content='1 Year Carry-in Warranty\\nPRODUCT URL: https://www.flipkart.com/acer-aspire-3-intel-core-i5-13th-gen-1334u-16-gb-512-gb-ssd-windows-11-home-a324-53-thin-light-laptop/p/itm707770fddc7e9?pid=COMH4B6CGZKHKUV3&lid=LSTCOMH4B6CGZKHKUV37HVWQK&marketplace=FLIPKART&q=Laptops&store=6bo%2Fb5g&srno=s_1_3&otracker=search&otracker1=search&fm=organic&iid=e32c72c7-d2f8-49e0-909a-871cf76840a9.COMH4B6CGZKHKUV3.SEARCH&ppt=hp&ppn=homepage&ssid=7n76hozdhc0000001746468761843&qH=48b773c837465a99'), Document(metadata={'source': 'D:\\\\AI & ML\\\\Projects\\\\Ecommerce-Laptop-Recomonadation\\\\Data\\\\Super_Small_Clean_Laptops.csv', 'row': 2}, page_content=\"clean_specs: {'Processor': 'Intel Core i5 Processor (13th Gen)', 'RAM': '16 GB DDR4', 'Storage': '512 GB SSD', 'Operating System': 'Windows 11', 'Display': '35.56 cm (14 Inch) Display', 'Warranty': '1 Year'}\\nProcessor: Intel Core i5 Processor (13th Gen)\\nRAM: 16 GB DDR4\\nStorage: 512 GB SSD\\nOperating System: Windows 11\\nDisplay: 35.56 cm (14 Inch) Display\\nWarranty: 1 Year\"), Document(metadata={'source': 'D:\\\\AI & ML\\\\Projects\\\\Ecommerce-Laptop-Recomonadation\\\\Data\\\\Super_Small_Clean_Laptops.csv', 'row': 3}, page_content='LAPTOP NAME: SAMSUNG Galaxy Book4 Metal Intel Core i5 13th Gen 1335U - (16 GB/512 GB SSD/Windows 11 Home) NP750XGJ-...\\nPRICE: 51990\\nRATING: 4.5\\nSPECIFICATIONS: Intel Core i5 Processor (13th Gen)\\n16 GB LPDDR4X RAM\\nWindows 11 Operating System\\n512 GB SSD\\n39.62 cm (15.6 Inch) Display\\n1 Year Manufacturer Warranty for Laptop and 6 Months for In-Box Accessories'), Document(metadata={'source': 'D:\\\\AI & ML\\\\Projects\\\\Ecommerce-Laptop-Recomonadation\\\\Data\\\\Super_Small_Clean_Laptops.csv', 'row': 3}, page_content='PRODUCT URL:'), Document(metadata={'source': 'D:\\\\AI & ML\\\\Projects\\\\Ecommerce-Laptop-Recomonadation\\\\Data\\\\Super_Small_Clean_Laptops.csv', 'row': 3}, page_content='https://www.flipkart.com/samsung-galaxy-book4-metal-intel-core-i5-13th-gen-1335u-16-gb-512-gb-ssd-windows-11-home-np750xgj-kg2in-np750xgj-lg2in-thin-light-laptop/p/itm820dc496ef160?pid=COMGZUYDGFJGHZR4&lid=LSTCOMGZUYDGFJGHZR4JPVIN2&marketplace=FLIPKART&q=Laptops&store=6bo%2Fb5g&spotlightTagId=default_BestsellerId_6bo%2Fb5g&srno=s_1_4&otracker=search&otracker1=search&fm=organic&iid=e32c72c7-d2f8-49e0-909a-871cf76840a9.COMGZUYDGFJGHZR4.SEARCH&ppt=hp&ppn=homepage&ssid=7n76hozdhc0000001746468761843'), Document(metadata={'source': 'D:\\\\AI & ML\\\\Projects\\\\Ecommerce-Laptop-Recomonadation\\\\Data\\\\Super_Small_Clean_Laptops.csv', 'row': 3}, page_content='9e0-909a-871cf76840a9.COMGZUYDGFJGHZR4.SEARCH&ppt=hp&ppn=homepage&ssid=7n76hozdhc0000001746468761843&qH=48b773c837465a99'), Document(metadata={'source': 'D:\\\\AI & ML\\\\Projects\\\\Ecommerce-Laptop-Recomonadation\\\\Data\\\\Super_Small_Clean_Laptops.csv', 'row': 3}, page_content=\"clean_specs: {'Processor': 'Intel Core i5 Processor (13th Gen)', 'RAM': '16 GB LPDDR4', 'Storage': '512 GB SSD', 'Operating System': 'Windows 11', 'Display': None, 'Warranty': '1 Year'}\\nProcessor: Intel Core i5 Processor (13th Gen)\\nRAM: 16 GB LPDDR4\\nStorage: 512 GB SSD\\nOperating System: Windows 11\\nDisplay: \\nWarranty: 1 Year\"), Document(metadata={'source': 'D:\\\\AI & ML\\\\Projects\\\\Ecommerce-Laptop-Recomonadation\\\\Data\\\\Super_Small_Clean_Laptops.csv', 'row': 4}, page_content='LAPTOP NAME: SAMSUNG Galaxy Book4 Metal Intel Core i7 13th Gen 1355U - (16 GB/512 GB SSD/Windows 11 Home) NP750XGJ-...\\nPRICE: 59990\\nRATING: 4.4\\nSPECIFICATIONS: Intel Core i7 Processor (13th Gen)\\n16 GB LPDDR4X RAM\\nWindows 11 Operating System\\n512 GB SSD\\n39.62 cm (15.6 Inch) Display\\n1 Year Manufacturer Warranty for Laptop and 6 Months for In-Box Accessories'), Document(metadata={'source': 'D:\\\\AI & ML\\\\Projects\\\\Ecommerce-Laptop-Recomonadation\\\\Data\\\\Super_Small_Clean_Laptops.csv', 'row': 4}, page_content='PRODUCT URL:'), Document(metadata={'source': 'D:\\\\AI & ML\\\\Projects\\\\Ecommerce-Laptop-Recomonadation\\\\Data\\\\Super_Small_Clean_Laptops.csv', 'row': 4}, page_content='https://www.flipkart.com/samsung-galaxy-book4-metal-intel-core-i7-13th-gen-1355u-16-gb-512-gb-ssd-windows-11-home-np750xgj-kg3in-np750xgj-lg3in-thin-light-laptop/p/itm820dc496ef160?pid=COMGZUYDYPUZAAXD&lid=LSTCOMGZUYDYPUZAAXDBMAOEF&marketplace=FLIPKART&q=Laptops&store=6bo%2Fb5g&spotlightTagId=default_BestsellerId_6bo%2Fb5g&srno=s_1_5&otracker=search&otracker1=search&fm=organic&iid=e32c72c7-d2f8-49e0-909a-871cf76840a9.COMGZUYDYPUZAAXD.SEARCH&ppt=hp&ppn=homepage&ssid=7n76hozdhc0000001746468761843'), Document(metadata={'source': 'D:\\\\AI & ML\\\\Projects\\\\Ecommerce-Laptop-Recomonadation\\\\Data\\\\Super_Small_Clean_Laptops.csv', 'row': 4}, page_content='9e0-909a-871cf76840a9.COMGZUYDYPUZAAXD.SEARCH&ppt=hp&ppn=homepage&ssid=7n76hozdhc0000001746468761843&qH=48b773c837465a99'), Document(metadata={'source': 'D:\\\\AI & ML\\\\Projects\\\\Ecommerce-Laptop-Recomonadation\\\\Data\\\\Super_Small_Clean_Laptops.csv', 'row': 4}, page_content=\"clean_specs: {'Processor': 'Intel Core i7 Processor (13th Gen)', 'RAM': '16 GB LPDDR4', 'Storage': '512 GB SSD', 'Operating System': 'Windows 11', 'Display': None, 'Warranty': '1 Year'}\\nProcessor: Intel Core i7 Processor (13th Gen)\\nRAM: 16 GB LPDDR4\\nStorage: 512 GB SSD\\nOperating System: Windows 11\\nDisplay: \\nWarranty: 1 Year\"), Document(metadata={'source': 'D:\\\\AI & ML\\\\Projects\\\\Ecommerce-Laptop-Recomonadation\\\\Data\\\\Super_Small_Clean_Laptops.csv', 'row': 5}, page_content='LAPTOP NAME: Acer Swift Go 14 TouchScreen AI PC Intel Core Ultra 5 125H - (16 GB/512 GB SSD/Windows 11 Home) SFG14-...\\nPRICE: 63990\\nRATING: 4.3\\nSPECIFICATIONS: Intel Core Ultra 5 Processor\\n16 GB LPDDR5X RAM\\nWindows 11 Operating System\\n512 GB SSD\\n35.56 cm (14 Inch) Touchscreen Display\\n1 Year Carry-in Warranty'), Document(metadata={'source': 'D:\\\\AI & ML\\\\Projects\\\\Ecommerce-Laptop-Recomonadation\\\\Data\\\\Super_Small_Clean_Laptops.csv', 'row': 5}, page_content='PRODUCT URL:'), Document(metadata={'source': 'D:\\\\AI & ML\\\\Projects\\\\Ecommerce-Laptop-Recomonadation\\\\Data\\\\Super_Small_Clean_Laptops.csv', 'row': 5}, page_content='https://www.flipkart.com/acer-swift-go-14-touchscreen-ai-pc-intel-core-ultra-5-125h-16-gb-512-gb-ssd-windows-11-home-sfg14-73t-58pz-thin-light-laptop/p/itm174fc1bfd505f?pid=COMGZH2UKZZXYGSA&lid=LSTCOMGZH2UKZZXYGSAF4SIUU&marketplace=FLIPKART&q=Laptops&store=6bo%2Fb5g&srno=s_1_6&otracker=search&otracker1=search&fm=organic&iid=en_BrzwIbL2tX2MCd2oXWAUUQ7wj-jDcphIVpLgHADrQM0u_88iK54EAP1JseXkgRQ3FTfyuUIyxcphu17d9G3tmRhTy0lUJ14SzoMSv_CzLF0%3D&ppt=hp&ppn=homepage&ssid=7n76hozdhc0000001746468761843&qH=4'), Document(metadata={'source': 'D:\\\\AI & ML\\\\Projects\\\\Ecommerce-Laptop-Recomonadation\\\\Data\\\\Super_Small_Clean_Laptops.csv', 'row': 5}, page_content='Iyxcphu17d9G3tmRhTy0lUJ14SzoMSv_CzLF0%3D&ppt=hp&ppn=homepage&ssid=7n76hozdhc0000001746468761843&qH=48b773c837465a99'), Document(metadata={'source': 'D:\\\\AI & ML\\\\Projects\\\\Ecommerce-Laptop-Recomonadation\\\\Data\\\\Super_Small_Clean_Laptops.csv', 'row': 5}, page_content=\"clean_specs: {'Processor': None, 'RAM': None, 'Storage': '512 GB SSD', 'Operating System': 'Windows 11', 'Display': None, 'Warranty': '1 Year'}\\nProcessor: \\nRAM: \\nStorage: 512 GB SSD\\nOperating System: Windows 11\\nDisplay: \\nWarranty: 1 Year\"), Document(metadata={'source': 'D:\\\\AI & ML\\\\Projects\\\\Ecommerce-Laptop-Recomonadation\\\\Data\\\\Super_Small_Clean_Laptops.csv', 'row': 6}, page_content='LAPTOP NAME: ASUS Vivobook 15, with Backlit Keyboard, Intel Core i5 12th Gen 1235U - (16 GB/512 GB SSD/Windows 11 H...\\nPRICE: 45990\\nRATING: 4.2\\nSPECIFICATIONS: Intel Core i5 Processor (12th Gen)\\n16 GB DDR4 RAM\\nWindows 11 Operating System\\n512 GB SSD\\n39.62 cm (15.6 Inch) Display\\n1 Year Onsite Warranty'), Document(metadata={'source': 'D:\\\\AI & ML\\\\Projects\\\\Ecommerce-Laptop-Recomonadation\\\\Data\\\\Super_Small_Clean_Laptops.csv', 'row': 6}, page_content='PRODUCT URL: https://www.flipkart.com/asus-vivobook-15-backlit-keyboard-intel-core-i5-12th-gen-1235u-16-gb-512-gb-ssd-windows-11-home-x1504za-nj540ws-x1504za-nj542ws-thin-light-laptop/p/itm200184e4e0443?pid=COMHYG8ZSP9DC2GZ&lid=LSTCOMHYG8ZSP9DC2GZECEZQA&marketplace=FLIPKART&q=Laptops&store=6bo%2Fb5g&srno=s_1_7&otracker=search&otracker1=search&fm=organic&iid=e32c72c7-d2f8-49e0-909a-871cf76840a9.COMHYG8ZSP9DC2GZ.SEARCH&ppt=hp&ppn=homepage&ssid=7n76hozdhc0000001746468761843&qH=48b773c837465a99'), Document(metadata={'source': 'D:\\\\AI & ML\\\\Projects\\\\Ecommerce-Laptop-Recomonadation\\\\Data\\\\Super_Small_Clean_Laptops.csv', 'row': 6}, page_content=\"clean_specs: {'Processor': 'Intel Core i5 Processor (12th Gen)', 'RAM': '16 GB DDR4', 'Storage': '512 GB SSD', 'Operating System': 'Windows 11', 'Display': None, 'Warranty': '1 Year'}\\nProcessor: Intel Core i5 Processor (12th Gen)\\nRAM: 16 GB DDR4\\nStorage: 512 GB SSD\\nOperating System: Windows 11\\nDisplay: \\nWarranty: 1 Year\"), Document(metadata={'source': 'D:\\\\AI & ML\\\\Projects\\\\Ecommerce-Laptop-Recomonadation\\\\Data\\\\Super_Small_Clean_Laptops.csv', 'row': 7}, page_content='LAPTOP NAME: Acer Aspire 3 Intel Celeron Dual Core - (8 GB/512 GB SSD/Windows 11 Home) A311-45 Thin and Light Lapto...\\nPRICE: 17990\\nRATING: 3.8\\nSPECIFICATIONS: Intel Celeron Dual Core Processor\\n8 GB DDR4 RAM\\n64 bit Windows 11 Home Operating System\\n512 GB SSD\\n29.46 cm (11.6 inch) Display\\n1 Year Warranty'), Document(metadata={'source': 'D:\\\\AI & ML\\\\Projects\\\\Ecommerce-Laptop-Recomonadation\\\\Data\\\\Super_Small_Clean_Laptops.csv', 'row': 7}, page_content='29.46 cm (11.6 inch) Display\\n1 Year Warranty\\nPRODUCT URL: https://www.flipkart.com/acer-aspire-3-intel-celeron-dual-core-8-gb-512-gb-ssd-windows-11-home-a311-45-thin-light-laptop/p/itmad38595c5a902?pid=COMH7NCZY2QDJ5Z4&lid=LSTCOMH7NCZY2QDJ5Z4RHDRWI&marketplace=FLIPKART&q=Laptops&store=6bo%2Fb5g&srno=s_1_8&otracker=search&otracker1=search&fm=organic&iid=e32c72c7-d2f8-49e0-909a-871cf76840a9.COMH7NCZY2QDJ5Z4.SEARCH&ppt=hp&ppn=homepage&ssid=7n76hozdhc0000001746468761843&qH=48b773c837465a99'), Document(metadata={'source': 'D:\\\\AI & ML\\\\Projects\\\\Ecommerce-Laptop-Recomonadation\\\\Data\\\\Super_Small_Clean_Laptops.csv', 'row': 7}, page_content=\"clean_specs: {'Processor': None, 'RAM': '8 GB DDR4', 'Storage': '512 GB SSD', 'Operating System': 'Windows 11 Home', 'Display': None, 'Warranty': '1 Year'}\\nProcessor: \\nRAM: 8 GB DDR4\\nStorage: 512 GB SSD\\nOperating System: Windows 11 Home\\nDisplay: \\nWarranty: 1 Year\"), Document(metadata={'source': 'D:\\\\AI & ML\\\\Projects\\\\Ecommerce-Laptop-Recomonadation\\\\Data\\\\Super_Small_Clean_Laptops.csv', 'row': 8}, page_content='LAPTOP NAME: MSI Thin 15 Intel Core i5 12th Gen 12450H - (16 GB/512 GB SSD/Windows 11 Home/4 GB Graphics/NVIDIA GeF...\\nPRICE: 50990\\nRATING: 4.3\\nSPECIFICATIONS: Intel Core i5 Processor (12th Gen)\\n16 GB DDR4 RAM\\nWindows 11 Operating System\\n512 GB SSD\\n39.62 cm (15.6 Inch) Display\\n2 Year Onsite Warranty'), Document(metadata={'source': 'D:\\\\AI & ML\\\\Projects\\\\Ecommerce-Laptop-Recomonadation\\\\Data\\\\Super_Small_Clean_Laptops.csv', 'row': 8}, page_content='PRODUCT URL: https://www.flipkart.com/msi-thin-15-intel-core-i5-12th-gen-12450h-16-gb-512-gb-ssd-windows-11-home-4-graphics-nvidia-geforce-rtx-2050-144-hz-b12ucx-2471in-gaming-laptop/p/itmc1581367ea4e2?pid=COMGYSFG4WHPVAVZ&lid=LSTCOMGYSFG4WHPVAVZ6L3G5Q&marketplace=FLIPKART&q=Laptops&store=6bo%2Fb5g&srno=s_1_9&otracker=search&otracker1=search&fm=organic&iid=e32c72c7-d2f8-49e0-909a-871cf76840a9.COMGYSFG4WHPVAVZ.SEARCH&ppt=hp&ppn=homepage&ssid=7n76hozdhc0000001746468761843&qH=48b773c837465a99'), Document(metadata={'source': 'D:\\\\AI & ML\\\\Projects\\\\Ecommerce-Laptop-Recomonadation\\\\Data\\\\Super_Small_Clean_Laptops.csv', 'row': 8}, page_content=\"clean_specs: {'Processor': 'Intel Core i5 Processor (12th Gen)', 'RAM': '16 GB DDR4', 'Storage': '512 GB SSD', 'Operating System': 'Windows 11', 'Display': None, 'Warranty': '2 Year'}\\nProcessor: Intel Core i5 Processor (12th Gen)\\nRAM: 16 GB DDR4\\nStorage: 512 GB SSD\\nOperating System: Windows 11\\nDisplay: \\nWarranty: 2 Year\"), Document(metadata={'source': 'D:\\\\AI & ML\\\\Projects\\\\Ecommerce-Laptop-Recomonadation\\\\Data\\\\Super_Small_Clean_Laptops.csv', 'row': 9}, page_content='LAPTOP NAME: ASUS Expertbook P1 Intel Core i7 13th Gen 13620H - (32 GB/512 GB SSD/Windows 11 Home) P1403CVA-S60940W...\\nPRICE: 68990\\nRATING: 3.8\\nSPECIFICATIONS: Intel Core i7 Processor (13th Gen)\\n32 GB DDR5 RAM\\nWindows 11 Home Operating System\\n512 GB SSD\\n35.56 cm (14 inch) Display\\nMicrosoft Office Home 2024, Microsoft 365 Basic\\n1 Year Onsite Warranty'), Document(metadata={'source': 'D:\\\\AI & ML\\\\Projects\\\\Ecommerce-Laptop-Recomonadation\\\\Data\\\\Super_Small_Clean_Laptops.csv', 'row': 9}, page_content='1 Year Onsite Warranty\\nPRODUCT URL: https://www.flipkart.com/asus-expertbook-p1-intel-core-i7-13th-gen-13620h-32-gb-512-gb-ssd-windows-11-home-p1403cva-s60940ws-thin-light-laptop/p/itmc8b94112958cf?pid=COMH8Z2QT98FWRGH&lid=LSTCOMH8Z2QT98FWRGH3QRD3U&marketplace=FLIPKART&q=Laptops&store=6bo%2Fb5g&srno=s_1_10&otracker=search&otracker1=search&fm=organic&iid=e32c72c7-d2f8-49e0-909a-871cf76840a9.COMH8Z2QT98FWRGH.SEARCH&ppt=hp&ppn=homepage&ssid=7n76hozdhc0000001746468761843&qH=48b773c837465a99'), Document(metadata={'source': 'D:\\\\AI & ML\\\\Projects\\\\Ecommerce-Laptop-Recomonadation\\\\Data\\\\Super_Small_Clean_Laptops.csv', 'row': 9}, page_content=\"clean_specs: {'Processor': 'Intel Core i7 Processor (13th Gen)', 'RAM': None, 'Storage': '512 GB SSD', 'Operating System': 'Windows 11 Home', 'Display': '35.56 cm (14 inch) Display', 'Warranty': '1 Year'}\\nProcessor: Intel Core i7 Processor (13th Gen)\\nRAM: \\nStorage: 512 GB SSD\\nOperating System: Windows 11 Home\\nDisplay: 35.56 cm (14 inch) Display\\nWarranty: 1 Year\")]\n"
     ]
    }
   ],
   "source": [
    "splited_documents = text_splitter.split_documents(all_documents)\n",
    "print(splited_documents)"
   ]
  },
  {
   "cell_type": "code",
   "execution_count": 9,
   "id": "73727942",
   "metadata": {},
   "outputs": [],
   "source": [
    "import faiss\n",
    "from langchain_community.docstore.in_memory import InMemoryDocstore\n",
    "from langchain_community.vectorstores import FAISS"
   ]
  },
  {
   "cell_type": "code",
   "execution_count": 10,
   "id": "3e19656a",
   "metadata": {},
   "outputs": [
    {
     "name": "stdout",
     "output_type": "stream",
     "text": [
      "✅ Data successfully stored in FAISS!\n"
     ]
    }
   ],
   "source": [
    "embeddings  = OllamaEmbeddings(\n",
    "  model='mxbai-embed-large'\n",
    ")\n",
    "persist_directory = \"./FAISS\"\n",
    "\n",
    "vectorstore = FAISS.from_documents(\n",
    "    documents=splited_documents,  # Ensure splited_documents contains valid data\n",
    "    embedding=embeddings\n",
    ")\n",
    "\n",
    "print(\"✅ Data successfully stored in FAISS!\")"
   ]
  },
  {
   "cell_type": "code",
   "execution_count": 11,
   "id": "493b8361",
   "metadata": {},
   "outputs": [
    {
     "name": "stderr",
     "output_type": "stream",
     "text": [
      "C:\\Users\\gaura\\AppData\\Local\\Temp\\ipykernel_13484\\4101668005.py:10: LangChainDeprecationWarning: The class `ChatOllama` was deprecated in LangChain 0.3.1 and will be removed in 1.0.0. An updated version of the class exists in the :class:`~langchain-ollama package and should be used instead. To use it run `pip install -U :class:`~langchain-ollama` and import as `from :class:`~langchain_ollama import ChatOllama``.\n",
      "  llm = ChatOllama(model=\"llama3.2\")\n"
     ]
    }
   ],
   "source": [
    "from langchain.chains import create_retrieval_chain\n",
    "from langchain.chains.combine_documents import create_stuff_documents_chain\n",
    "from langchain_core.prompts import ChatPromptTemplate\n",
    "from langchain_community.chat_models import ChatOllama\n",
    "\n",
    "# Initialize your retriever from the FAISS vector store\n",
    "retriever = vectorstore.as_retriever()\n",
    "\n",
    "# Initialize your local language model\n",
    "llm = ChatOllama(model=\"llama3.2\")\n",
    "\n",
    "# Define the system prompt with the required {context} variable\n",
    "system_prompt = (\n",
    "    \"Use the given context to answer the question. \"\n",
    "    \"If you don't know the answer, say you don't know. \"\n",
    "    \"Keep the answer concise and relevant.\\n\\n\"\n",
    "    \"{context}\"\n",
    ")\n",
    "\n",
    "# Create the prompt template\n",
    "prompt = ChatPromptTemplate.from_messages([\n",
    "    (\"system\", system_prompt),\n",
    "    (\"human\", \"{input}\")\n",
    "])\n",
    "\n",
    "# Create the document chain\n",
    "document_chain = create_stuff_documents_chain(llm, prompt)\n",
    "\n",
    "# Create the retrieval chain\n",
    "retrieval_chain = create_retrieval_chain(retriever, document_chain)"
   ]
  },
  {
   "cell_type": "code",
   "execution_count": 12,
   "id": "a46f937c",
   "metadata": {},
   "outputs": [
    {
     "name": "stdout",
     "output_type": "stream",
     "text": [
      "Answer: I don't see any information about mobile phones in the provided context. The links seem to be related to laptops from Samsung, Galaxy Book4 series. If you're looking for a mobile phone suggestion, I'd need more context or information about your preferences (e.g., budget, brand, features). Would you like me to try and help with that?\n"
     ]
    }
   ],
   "source": [
    "# Define your query\n",
    "query = \"i want to buy mobile phone please suggest me ?\"\n",
    "\n",
    "# Invoke the retrieval chain with the query\n",
    "response = retrieval_chain.invoke({\"input\": query})\n",
    "\n",
    "# Print the generated answer\n",
    "print(\"Answer:\", response[\"answer\"])\n"
   ]
  },
  {
   "cell_type": "code",
   "execution_count": null,
   "id": "4a130306",
   "metadata": {},
   "outputs": [],
   "source": [
    "from langchain.chains import ConversationalRetrievalChain\n",
    "from langchain_core.messages import HumanMessage, AIMessage\n",
    "\n",
    "# Initialize chat history\n",
    "chat_history = []\n",
    "\n",
    "# Define your initial query\n",
    "query = \"Give me best laptops for remote work?\"\n",
    "\n",
    "# Invoke the retrieval chain with the query and chat history\n",
    "response = retrieval_chain.invoke({\"input\": query, \"chat_history\": chat_history})\n",
    "\n",
    "# Print the generated answer\n",
    "print(\"Answer:\", response[\"answer\"])\n",
    "\n",
    "# Update chat history with the latest interaction\n",
    "chat_history.extend([\n",
    "    HumanMessage(content=query),\n",
    "    AIMessage(content=response[\"answer\"])\n",
    "])\n",
    "\n",
    "# Define a follow-up question\n",
    "follow_up_query = \"Can you suggest different laptops?\"\n",
    "\n",
    "# Invoke the retrieval chain with the follow-up question and updated chat history\n",
    "follow_up_response = retrieval_chain.invoke({\"input\": follow_up_query, \"chat_history\": chat_history})\n",
    "\n",
    "# Print the follow-up answer\n",
    "print(\"Follow-Up Answer:\", follow_up_response[\"answer\"])\n",
    "\n",
    "# Update chat history with the follow-up interaction\n",
    "chat_history.extend([\n",
    "    HumanMessage(content=follow_up_query),\n",
    "    AIMessage(content=follow_up_response[\"answer\"])\n",
    "])\n"
   ]
  },
  {
   "cell_type": "code",
   "execution_count": null,
   "id": "8a9cb561",
   "metadata": {},
   "outputs": [],
   "source": []
  }
 ],
 "metadata": {
  "kernelspec": {
   "display_name": "venv",
   "language": "python",
   "name": "python3"
  },
  "language_info": {
   "codemirror_mode": {
    "name": "ipython",
    "version": 3
   },
   "file_extension": ".py",
   "mimetype": "text/x-python",
   "name": "python",
   "nbconvert_exporter": "python",
   "pygments_lexer": "ipython3",
   "version": "3.10.0rc2"
  }
 },
 "nbformat": 4,
 "nbformat_minor": 5
}
